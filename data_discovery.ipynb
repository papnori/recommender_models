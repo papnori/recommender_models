{
 "cells": [
  {
   "cell_type": "code",
   "execution_count": 2,
   "metadata": {
    "collapsed": true
   },
   "outputs": [],
   "source": [
    "from utility import *\n",
    "\n",
    "\n",
    "reviews, products = get_data()"
   ]
  },
  {
   "cell_type": "code",
   "execution_count": 10,
   "outputs": [
    {
     "data": {
      "text/plain": "       id         brand_name  \\\n0     545       Olehenriksen   \n1     223  Peter thomas roth   \n2     237            Origins   \n3     551   First aid beauty   \n4     579    Kate somerville   \n..    ...                ...   \n878   212    Makeup by mario   \n879   206          Herbivore   \n880   560         Hyper skin   \n881   548    Kate somerville   \n882  1962           Tan-luxe   \n\n                                          product_name  number_of_reviews  \\\n0                     Glow Cycle Retin-ALT Power Serum               1200   \n1    PRO Strength Microdermabrasion Blackhead Elimi...                463   \n2    Clear Improvement™ Zero Oil Cleanser With Char...                  8   \n3                                 Facial Radiance Pads               2600   \n4                            EradiKate™ Acne Treatment               3100   \n..                                                 ...                ...   \n878                        Gentle Makeup Remover Wipes                 20   \n879  Pink Cloud Rosewater + Squalane Makeup Removin...                617   \n880              Brightening Dark Spot Vitamin C Serum                143   \n881    HydraKate Recharging Serum with Hyaluronic Acid                 89   \n882             THE BUTTER Illuminating Tanning Butter                181   \n\n                                            highlights                   size  \\\n0              [Vegan, Clean at Sephora, Cruelty-Free]      Size: 1 oz/ 30 mL   \n1                                     [Salicylic Acid]      Size: 2 oz/ 57 mL   \n2                            [Vegan, Clean at Sephora]     Size: 5 oz/ 150 mL   \n3                     [Clean at Sephora, Cruelty-Free]          Size: 60 Pads   \n4                       [Salicylic Acid, Cruelty-Free]             Size: 1 oz   \n..                                                 ...                    ...   \n878                                                 []         Size: 25 wipes   \n879  [Hyaluronic Acid, Cruelty-Free, Vegan, Clean +...  Size: 3.38 oz/ 100 mL   \n880                      [Vitamin C, Clean at Sephora]      Size: 1 oz/ 30 mL   \n881                                  [Hyaluronic Acid]     Size: 1 oz / 30 mL   \n882                                     [Cruelty-Free]  Size: 6.76 oz/ 200 mL   \n\n                                          product_info  \\\n0    Which skin type is it good for?\\n✔ Normal\\n✔ O...   \n1    What it is: An intensive triple-action exfolia...   \n2    What it is: A gel-to-foam cleanser that washes...   \n3    What it is: A daily treatment pad with lactic ...   \n4    What it is: An effective blemish-fighting acne...   \n..                                                 ...   \n878  What it is: A set of refreshing biodegradable ...   \n879  What it is: A multitasking face wash that gent...   \n880  What it is: A hardworking hyperpigmentation tr...   \n881  What it is: A lightweight serum powered by Aqu...   \n882  Which skin type is it good for?\\n✔ Normal\\n✔ O...   \n\n                                           ingredients  number_of_loves_K  \\\n0    -Bakuchiol: Derived from the Ayurvedic babchi ...               43.2   \n1    -2% Salicylic Acid: Helps to dissolve the appe...               11.4   \n2                                                  NaN                1.9   \n3                                                  NaN              126.8   \n4    -Sulfur (10.0%): Works quickly to exfoliate de...               93.9   \n..                                                 ...                ...   \n878                                                NaN                3.5   \n879  Aqua/Water/Eau, Rosa Damascena Flower Water, D...               41.0   \n880                                                NaN               12.9   \n881  -AquaPort Technology: Transports hydration fas...                1.6   \n882                                                NaN               17.1   \n\n     price_$  ...  Cruelty-Free  Hyaluronic Acid  Lactic Acid  Niacinamide  \\\n0       60.0  ...             1                0            0            0   \n1       68.0  ...             0                0            0            0   \n2       27.0  ...             0                0            0            0   \n3       36.0  ...             1                0            0            0   \n4       28.0  ...             1                0            0            0   \n..       ...  ...           ...              ...          ...          ...   \n878     15.0  ...             0                0            0            0   \n879     24.0  ...             1                1            0            0   \n880     58.0  ...             0                0            0            0   \n881     78.0  ...             0                1            0            0   \n882     38.0  ...             1                0            0            0   \n\n     Reef Safe SPF  Refill Available  Retinol  Salicylic Acid  Vegan  \\\n0                0                 0        0               0      1   \n1                0                 0        0               1      0   \n2                0                 0        0               0      1   \n3                0                 0        0               0      0   \n4                0                 0        0               1      0   \n..             ...               ...      ...             ...    ...   \n878              0                 0        0               0      0   \n879              0                 0        0               0      1   \n880              0                 0        0               0      0   \n881              0                 0        0               0      0   \n882              0                 0        0               0      0   \n\n     Vitamin C  \n0            0  \n1            0  \n2            0  \n3            0  \n4            0  \n..         ...  \n878          0  \n879          0  \n880          1  \n881          0  \n882          0  \n\n[883 rows x 25 columns]",
      "text/html": "<div>\n<style scoped>\n    .dataframe tbody tr th:only-of-type {\n        vertical-align: middle;\n    }\n\n    .dataframe tbody tr th {\n        vertical-align: top;\n    }\n\n    .dataframe thead th {\n        text-align: right;\n    }\n</style>\n<table border=\"1\" class=\"dataframe\">\n  <thead>\n    <tr style=\"text-align: right;\">\n      <th></th>\n      <th>id</th>\n      <th>brand_name</th>\n      <th>product_name</th>\n      <th>number_of_reviews</th>\n      <th>highlights</th>\n      <th>size</th>\n      <th>product_info</th>\n      <th>ingredients</th>\n      <th>number_of_loves_K</th>\n      <th>price_$</th>\n      <th>...</th>\n      <th>Cruelty-Free</th>\n      <th>Hyaluronic Acid</th>\n      <th>Lactic Acid</th>\n      <th>Niacinamide</th>\n      <th>Reef Safe SPF</th>\n      <th>Refill Available</th>\n      <th>Retinol</th>\n      <th>Salicylic Acid</th>\n      <th>Vegan</th>\n      <th>Vitamin C</th>\n    </tr>\n  </thead>\n  <tbody>\n    <tr>\n      <th>0</th>\n      <td>545</td>\n      <td>Olehenriksen</td>\n      <td>Glow Cycle Retin-ALT Power Serum</td>\n      <td>1200</td>\n      <td>[Vegan, Clean at Sephora, Cruelty-Free]</td>\n      <td>Size: 1 oz/ 30 mL</td>\n      <td>Which skin type is it good for?\\n✔ Normal\\n✔ O...</td>\n      <td>-Bakuchiol: Derived from the Ayurvedic babchi ...</td>\n      <td>43.2</td>\n      <td>60.0</td>\n      <td>...</td>\n      <td>1</td>\n      <td>0</td>\n      <td>0</td>\n      <td>0</td>\n      <td>0</td>\n      <td>0</td>\n      <td>0</td>\n      <td>0</td>\n      <td>1</td>\n      <td>0</td>\n    </tr>\n    <tr>\n      <th>1</th>\n      <td>223</td>\n      <td>Peter thomas roth</td>\n      <td>PRO Strength Microdermabrasion Blackhead Elimi...</td>\n      <td>463</td>\n      <td>[Salicylic Acid]</td>\n      <td>Size: 2 oz/ 57 mL</td>\n      <td>What it is: An intensive triple-action exfolia...</td>\n      <td>-2% Salicylic Acid: Helps to dissolve the appe...</td>\n      <td>11.4</td>\n      <td>68.0</td>\n      <td>...</td>\n      <td>0</td>\n      <td>0</td>\n      <td>0</td>\n      <td>0</td>\n      <td>0</td>\n      <td>0</td>\n      <td>0</td>\n      <td>1</td>\n      <td>0</td>\n      <td>0</td>\n    </tr>\n    <tr>\n      <th>2</th>\n      <td>237</td>\n      <td>Origins</td>\n      <td>Clear Improvement™ Zero Oil Cleanser With Char...</td>\n      <td>8</td>\n      <td>[Vegan, Clean at Sephora]</td>\n      <td>Size: 5 oz/ 150 mL</td>\n      <td>What it is: A gel-to-foam cleanser that washes...</td>\n      <td>NaN</td>\n      <td>1.9</td>\n      <td>27.0</td>\n      <td>...</td>\n      <td>0</td>\n      <td>0</td>\n      <td>0</td>\n      <td>0</td>\n      <td>0</td>\n      <td>0</td>\n      <td>0</td>\n      <td>0</td>\n      <td>1</td>\n      <td>0</td>\n    </tr>\n    <tr>\n      <th>3</th>\n      <td>551</td>\n      <td>First aid beauty</td>\n      <td>Facial Radiance Pads</td>\n      <td>2600</td>\n      <td>[Clean at Sephora, Cruelty-Free]</td>\n      <td>Size: 60 Pads</td>\n      <td>What it is: A daily treatment pad with lactic ...</td>\n      <td>NaN</td>\n      <td>126.8</td>\n      <td>36.0</td>\n      <td>...</td>\n      <td>1</td>\n      <td>0</td>\n      <td>0</td>\n      <td>0</td>\n      <td>0</td>\n      <td>0</td>\n      <td>0</td>\n      <td>0</td>\n      <td>0</td>\n      <td>0</td>\n    </tr>\n    <tr>\n      <th>4</th>\n      <td>579</td>\n      <td>Kate somerville</td>\n      <td>EradiKate™ Acne Treatment</td>\n      <td>3100</td>\n      <td>[Salicylic Acid, Cruelty-Free]</td>\n      <td>Size: 1 oz</td>\n      <td>What it is: An effective blemish-fighting acne...</td>\n      <td>-Sulfur (10.0%): Works quickly to exfoliate de...</td>\n      <td>93.9</td>\n      <td>28.0</td>\n      <td>...</td>\n      <td>1</td>\n      <td>0</td>\n      <td>0</td>\n      <td>0</td>\n      <td>0</td>\n      <td>0</td>\n      <td>0</td>\n      <td>1</td>\n      <td>0</td>\n      <td>0</td>\n    </tr>\n    <tr>\n      <th>...</th>\n      <td>...</td>\n      <td>...</td>\n      <td>...</td>\n      <td>...</td>\n      <td>...</td>\n      <td>...</td>\n      <td>...</td>\n      <td>...</td>\n      <td>...</td>\n      <td>...</td>\n      <td>...</td>\n      <td>...</td>\n      <td>...</td>\n      <td>...</td>\n      <td>...</td>\n      <td>...</td>\n      <td>...</td>\n      <td>...</td>\n      <td>...</td>\n      <td>...</td>\n      <td>...</td>\n    </tr>\n    <tr>\n      <th>878</th>\n      <td>212</td>\n      <td>Makeup by mario</td>\n      <td>Gentle Makeup Remover Wipes</td>\n      <td>20</td>\n      <td>[]</td>\n      <td>Size: 25 wipes</td>\n      <td>What it is: A set of refreshing biodegradable ...</td>\n      <td>NaN</td>\n      <td>3.5</td>\n      <td>15.0</td>\n      <td>...</td>\n      <td>0</td>\n      <td>0</td>\n      <td>0</td>\n      <td>0</td>\n      <td>0</td>\n      <td>0</td>\n      <td>0</td>\n      <td>0</td>\n      <td>0</td>\n      <td>0</td>\n    </tr>\n    <tr>\n      <th>879</th>\n      <td>206</td>\n      <td>Herbivore</td>\n      <td>Pink Cloud Rosewater + Squalane Makeup Removin...</td>\n      <td>617</td>\n      <td>[Hyaluronic Acid, Cruelty-Free, Vegan, Clean +...</td>\n      <td>Size: 3.38 oz/ 100 mL</td>\n      <td>What it is: A multitasking face wash that gent...</td>\n      <td>Aqua/Water/Eau, Rosa Damascena Flower Water, D...</td>\n      <td>41.0</td>\n      <td>24.0</td>\n      <td>...</td>\n      <td>1</td>\n      <td>1</td>\n      <td>0</td>\n      <td>0</td>\n      <td>0</td>\n      <td>0</td>\n      <td>0</td>\n      <td>0</td>\n      <td>1</td>\n      <td>0</td>\n    </tr>\n    <tr>\n      <th>880</th>\n      <td>560</td>\n      <td>Hyper skin</td>\n      <td>Brightening Dark Spot Vitamin C Serum</td>\n      <td>143</td>\n      <td>[Vitamin C, Clean at Sephora]</td>\n      <td>Size: 1 oz/ 30 mL</td>\n      <td>What it is: A hardworking hyperpigmentation tr...</td>\n      <td>NaN</td>\n      <td>12.9</td>\n      <td>58.0</td>\n      <td>...</td>\n      <td>0</td>\n      <td>0</td>\n      <td>0</td>\n      <td>0</td>\n      <td>0</td>\n      <td>0</td>\n      <td>0</td>\n      <td>0</td>\n      <td>0</td>\n      <td>1</td>\n    </tr>\n    <tr>\n      <th>881</th>\n      <td>548</td>\n      <td>Kate somerville</td>\n      <td>HydraKate Recharging Serum with Hyaluronic Acid</td>\n      <td>89</td>\n      <td>[Hyaluronic Acid]</td>\n      <td>Size: 1 oz / 30 mL</td>\n      <td>What it is: A lightweight serum powered by Aqu...</td>\n      <td>-AquaPort Technology: Transports hydration fas...</td>\n      <td>1.6</td>\n      <td>78.0</td>\n      <td>...</td>\n      <td>0</td>\n      <td>1</td>\n      <td>0</td>\n      <td>0</td>\n      <td>0</td>\n      <td>0</td>\n      <td>0</td>\n      <td>0</td>\n      <td>0</td>\n      <td>0</td>\n    </tr>\n    <tr>\n      <th>882</th>\n      <td>1962</td>\n      <td>Tan-luxe</td>\n      <td>THE BUTTER Illuminating Tanning Butter</td>\n      <td>181</td>\n      <td>[Cruelty-Free]</td>\n      <td>Size: 6.76 oz/ 200 mL</td>\n      <td>Which skin type is it good for?\\n✔ Normal\\n✔ O...</td>\n      <td>NaN</td>\n      <td>17.1</td>\n      <td>38.0</td>\n      <td>...</td>\n      <td>1</td>\n      <td>0</td>\n      <td>0</td>\n      <td>0</td>\n      <td>0</td>\n      <td>0</td>\n      <td>0</td>\n      <td>0</td>\n      <td>0</td>\n      <td>0</td>\n    </tr>\n  </tbody>\n</table>\n<p>883 rows × 25 columns</p>\n</div>"
     },
     "execution_count": 10,
     "metadata": {},
     "output_type": "execute_result"
    }
   ],
   "source": [
    "products"
   ],
   "metadata": {
    "collapsed": false
   }
  },
  {
   "cell_type": "code",
   "execution_count": 47,
   "outputs": [],
   "source": [
    "\n",
    "products['highlights'] = products['highlights'].apply(ast.literal_eval)"
   ],
   "metadata": {
    "collapsed": false
   }
  },
  {
   "cell_type": "code",
   "execution_count": 44,
   "outputs": [
    {
     "data": {
      "text/plain": "\"['Vegan', 'Clean at Sephora', 'Cruelty-Free']\""
     },
     "execution_count": 44,
     "metadata": {},
     "output_type": "execute_result"
    }
   ],
   "source": [
    "products[\"highlights\"][0]"
   ],
   "metadata": {
    "collapsed": false
   }
  },
  {
   "cell_type": "code",
   "execution_count": 48,
   "outputs": [
    {
     "data": {
      "text/plain": "     AHA/Glycolic Acid  CBD  Clean + Planet Positive  Clean at Sephora  \\\n0                    0    0                        0                 1   \n1                    0    0                        0                 0   \n2                    0    0                        0                 1   \n3                    0    0                        0                 1   \n4                    0    0                        0                 0   \n..                 ...  ...                      ...               ...   \n878                  0    0                        0                 0   \n879                  0    0                        1                 0   \n880                  0    0                        0                 1   \n881                  0    0                        0                 0   \n882                  0    0                        0                 0   \n\n     Collagen  Cruelty-Free  Hyaluronic Acid  Lactic Acid  Niacinamide  \\\n0           0             1                0            0            0   \n1           0             0                0            0            0   \n2           0             0                0            0            0   \n3           0             1                0            0            0   \n4           0             1                0            0            0   \n..        ...           ...              ...          ...          ...   \n878         0             0                0            0            0   \n879         0             1                1            0            0   \n880         0             0                0            0            0   \n881         0             0                1            0            0   \n882         0             1                0            0            0   \n\n     Reef Safe SPF  Refill Available  Retinol  Salicylic Acid  Vegan  \\\n0                0                 0        0               0      1   \n1                0                 0        0               1      0   \n2                0                 0        0               0      1   \n3                0                 0        0               0      0   \n4                0                 0        0               1      0   \n..             ...               ...      ...             ...    ...   \n878              0                 0        0               0      0   \n879              0                 0        0               0      1   \n880              0                 0        0               0      0   \n881              0                 0        0               0      0   \n882              0                 0        0               0      0   \n\n     Vitamin C  \n0            0  \n1            0  \n2            0  \n3            0  \n4            0  \n..         ...  \n878          0  \n879          0  \n880          1  \n881          0  \n882          0  \n\n[883 rows x 15 columns]",
      "text/html": "<div>\n<style scoped>\n    .dataframe tbody tr th:only-of-type {\n        vertical-align: middle;\n    }\n\n    .dataframe tbody tr th {\n        vertical-align: top;\n    }\n\n    .dataframe thead th {\n        text-align: right;\n    }\n</style>\n<table border=\"1\" class=\"dataframe\">\n  <thead>\n    <tr style=\"text-align: right;\">\n      <th></th>\n      <th>AHA/Glycolic Acid</th>\n      <th>CBD</th>\n      <th>Clean + Planet Positive</th>\n      <th>Clean at Sephora</th>\n      <th>Collagen</th>\n      <th>Cruelty-Free</th>\n      <th>Hyaluronic Acid</th>\n      <th>Lactic Acid</th>\n      <th>Niacinamide</th>\n      <th>Reef Safe SPF</th>\n      <th>Refill Available</th>\n      <th>Retinol</th>\n      <th>Salicylic Acid</th>\n      <th>Vegan</th>\n      <th>Vitamin C</th>\n    </tr>\n  </thead>\n  <tbody>\n    <tr>\n      <th>0</th>\n      <td>0</td>\n      <td>0</td>\n      <td>0</td>\n      <td>1</td>\n      <td>0</td>\n      <td>1</td>\n      <td>0</td>\n      <td>0</td>\n      <td>0</td>\n      <td>0</td>\n      <td>0</td>\n      <td>0</td>\n      <td>0</td>\n      <td>1</td>\n      <td>0</td>\n    </tr>\n    <tr>\n      <th>1</th>\n      <td>0</td>\n      <td>0</td>\n      <td>0</td>\n      <td>0</td>\n      <td>0</td>\n      <td>0</td>\n      <td>0</td>\n      <td>0</td>\n      <td>0</td>\n      <td>0</td>\n      <td>0</td>\n      <td>0</td>\n      <td>1</td>\n      <td>0</td>\n      <td>0</td>\n    </tr>\n    <tr>\n      <th>2</th>\n      <td>0</td>\n      <td>0</td>\n      <td>0</td>\n      <td>1</td>\n      <td>0</td>\n      <td>0</td>\n      <td>0</td>\n      <td>0</td>\n      <td>0</td>\n      <td>0</td>\n      <td>0</td>\n      <td>0</td>\n      <td>0</td>\n      <td>1</td>\n      <td>0</td>\n    </tr>\n    <tr>\n      <th>3</th>\n      <td>0</td>\n      <td>0</td>\n      <td>0</td>\n      <td>1</td>\n      <td>0</td>\n      <td>1</td>\n      <td>0</td>\n      <td>0</td>\n      <td>0</td>\n      <td>0</td>\n      <td>0</td>\n      <td>0</td>\n      <td>0</td>\n      <td>0</td>\n      <td>0</td>\n    </tr>\n    <tr>\n      <th>4</th>\n      <td>0</td>\n      <td>0</td>\n      <td>0</td>\n      <td>0</td>\n      <td>0</td>\n      <td>1</td>\n      <td>0</td>\n      <td>0</td>\n      <td>0</td>\n      <td>0</td>\n      <td>0</td>\n      <td>0</td>\n      <td>1</td>\n      <td>0</td>\n      <td>0</td>\n    </tr>\n    <tr>\n      <th>...</th>\n      <td>...</td>\n      <td>...</td>\n      <td>...</td>\n      <td>...</td>\n      <td>...</td>\n      <td>...</td>\n      <td>...</td>\n      <td>...</td>\n      <td>...</td>\n      <td>...</td>\n      <td>...</td>\n      <td>...</td>\n      <td>...</td>\n      <td>...</td>\n      <td>...</td>\n    </tr>\n    <tr>\n      <th>878</th>\n      <td>0</td>\n      <td>0</td>\n      <td>0</td>\n      <td>0</td>\n      <td>0</td>\n      <td>0</td>\n      <td>0</td>\n      <td>0</td>\n      <td>0</td>\n      <td>0</td>\n      <td>0</td>\n      <td>0</td>\n      <td>0</td>\n      <td>0</td>\n      <td>0</td>\n    </tr>\n    <tr>\n      <th>879</th>\n      <td>0</td>\n      <td>0</td>\n      <td>1</td>\n      <td>0</td>\n      <td>0</td>\n      <td>1</td>\n      <td>1</td>\n      <td>0</td>\n      <td>0</td>\n      <td>0</td>\n      <td>0</td>\n      <td>0</td>\n      <td>0</td>\n      <td>1</td>\n      <td>0</td>\n    </tr>\n    <tr>\n      <th>880</th>\n      <td>0</td>\n      <td>0</td>\n      <td>0</td>\n      <td>1</td>\n      <td>0</td>\n      <td>0</td>\n      <td>0</td>\n      <td>0</td>\n      <td>0</td>\n      <td>0</td>\n      <td>0</td>\n      <td>0</td>\n      <td>0</td>\n      <td>0</td>\n      <td>1</td>\n    </tr>\n    <tr>\n      <th>881</th>\n      <td>0</td>\n      <td>0</td>\n      <td>0</td>\n      <td>0</td>\n      <td>0</td>\n      <td>0</td>\n      <td>1</td>\n      <td>0</td>\n      <td>0</td>\n      <td>0</td>\n      <td>0</td>\n      <td>0</td>\n      <td>0</td>\n      <td>0</td>\n      <td>0</td>\n    </tr>\n    <tr>\n      <th>882</th>\n      <td>0</td>\n      <td>0</td>\n      <td>0</td>\n      <td>0</td>\n      <td>0</td>\n      <td>1</td>\n      <td>0</td>\n      <td>0</td>\n      <td>0</td>\n      <td>0</td>\n      <td>0</td>\n      <td>0</td>\n      <td>0</td>\n      <td>0</td>\n      <td>0</td>\n    </tr>\n  </tbody>\n</table>\n<p>883 rows × 15 columns</p>\n</div>"
     },
     "execution_count": 48,
     "metadata": {},
     "output_type": "execute_result"
    }
   ],
   "source": [
    "\n",
    "mlb = MultiLabelBinarizer()\n",
    "\n",
    "res = pd.DataFrame(mlb.fit_transform(products[\"highlights\"]),\n",
    "                   columns=mlb.classes_,\n",
    "                   index=products[\"highlights\"].index)\n",
    "res"
   ],
   "metadata": {
    "collapsed": false
   }
  }
 ],
 "metadata": {
  "kernelspec": {
   "display_name": "Python 3",
   "language": "python",
   "name": "python3"
  },
  "language_info": {
   "codemirror_mode": {
    "name": "ipython",
    "version": 2
   },
   "file_extension": ".py",
   "mimetype": "text/x-python",
   "name": "python",
   "nbconvert_exporter": "python",
   "pygments_lexer": "ipython2",
   "version": "2.7.6"
  }
 },
 "nbformat": 4,
 "nbformat_minor": 0
}
